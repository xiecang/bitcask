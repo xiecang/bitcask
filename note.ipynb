{
 "cells": [
  {
   "cell_type": "markdown",
   "source": [
    "读取 LogRecord\n",
    "\n",
    "[read-LogRecord](./docs/images/read-logrecord.png)\n",
    "\n",
    "上图信息是存储在数据文件中的一条 LogRecord 的结构，我们可以将其分成两部分：\n",
    "- 一是头部信息，存储了一些元数据，例如 crc 校验值、Type 类型、Key 的大小、Value 的大小\n",
    "- 二是包含用户实际的 key、value 部分\n",
    "\n",
    "Header 部分\n",
    "\n",
    "crc 占 4 个字节\n",
    "Type 占 1 个字节\n",
    "Key size 变长\n",
    "Value size 变长\n",
    "\n",
    "> key size 和 value size 变长的原因是为了节省空间，如果 key size 是 u32 类型的话，如果不使用变长，将固定占据4个字节，但是有的时候我们 key 的长度很小，例如长度为 5，那么只需要一个字节就够了\n",
    "\n",
    "读取的时候，需要判断读取的偏移 + LogRecord 的最大头部字节数，是不是超过了文件大小，针对这个 case 需要特殊处理。"
   ],
   "metadata": {
    "collapsed": false
   }
  },
  {
   "cell_type": "code",
   "execution_count": null,
   "outputs": [],
   "source": [],
   "metadata": {
    "collapsed": false
   }
  }
 ],
 "metadata": {
  "kernelspec": {
   "display_name": "Python 3",
   "language": "python",
   "name": "python3"
  },
  "language_info": {
   "codemirror_mode": {
    "name": "ipython",
    "version": 2
   },
   "file_extension": ".py",
   "mimetype": "text/x-python",
   "name": "python",
   "nbconvert_exporter": "python",
   "pygments_lexer": "ipython2",
   "version": "2.7.6"
  }
 },
 "nbformat": 4,
 "nbformat_minor": 0
}
